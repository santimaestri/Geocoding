{
 "cells": [
  {
   "cell_type": "code",
   "execution_count": 6,
   "id": "395fcddc-d10e-4fb2-a5f0-aefde2ce7aa4",
   "metadata": {},
   "outputs": [
    {
     "name": "stdout",
     "output_type": "stream",
     "text": [
      "[{'author': 'Vincent Van Gogh', 'title': 'Starry Night', 'year': 1805},\n",
      " {'author': 'Leonardo da Vinci', 'title': 'Mona Lisa', 'year': 1503},\n",
      " {'author': 'Salvador Dali',\n",
      "  'title': 'The Persistence of Memory',\n",
      "  'year': 1931},\n",
      " {'author': 'Pablo Picasso', 'title': 'Guernica', 'year': 1937},\n",
      " {'author': 'Rembrandt van Rijn', 'title': 'The Night Watch', 'year': 1642},\n",
      " {'author': 'Sandro Botticelli', 'title': 'The Birth of Venus', 'year': 1486},\n",
      " {'author': 'Gustav Klimt', 'title': 'The Kiss', 'year': 1908},\n",
      " {'author': 'Leonardo da Vinci', 'title': 'The Last Supper', 'year': 1498},\n",
      " {'author': 'Edvard Munch', 'title': 'The Scream', 'year': 1893},\n",
      " {'author': 'Claude Monet', 'title': 'Water Lilies', 'year': 1920}]\n"
     ]
    }
   ],
   "source": [
    "import pprint\n",
    "\n",
    "art_pieces = [\n",
    "    {'title': 'Starry Night', 'year':1805,'author':'Vincent Van Gogh'},\n",
    "    {'title': 'Mona Lisa', 'year':1503,'author':'Leonardo da Vinci'},\n",
    "    {'title': 'The Persistence of Memory', 'year':1931,'author':'Salvador Dali'},\n",
    "    {'title': 'Guernica','year':1937,'author':'Pablo Picasso'},\n",
    "    {'title': 'The Night Watch','year':1642,'author':'Rembrandt van Rijn'},\n",
    "    {'title': 'The Birth of Venus','year':1486,'author':'Sandro Botticelli'},\n",
    "    {'title': 'The Kiss','year':1908,'author':'Gustav Klimt'},\n",
    "    {'title': 'The Last Supper','year':1498,'author':'Leonardo da Vinci'},\n",
    "    {'title': 'The Scream', 'year': 1893, 'author':'Edvard Munch'},\n",
    "    {'title': 'Water Lilies','year': 1920, 'author': 'Claude Monet'}]\n",
    "\n",
    "pprint.pprint(art_pieces)"
   ]
  },
  {
   "cell_type": "code",
   "execution_count": 13,
   "id": "b15de84f-4dac-4ebb-985a-f02f06b3ba43",
   "metadata": {},
   "outputs": [
    {
     "name": "stdout",
     "output_type": "stream",
     "text": [
      "2025\n"
     ]
    }
   ],
   "source": [
    "current_year = 2025\n",
    "\n",
    "int(current_year)\n",
    "\n",
    "print(current_year)"
   ]
  },
  {
   "cell_type": "code",
   "execution_count": 18,
   "id": "9e33d9bf-c701-4e46-82b7-a8c05e7920f8",
   "metadata": {},
   "outputs": [
    {
     "name": "stdout",
     "output_type": "stream",
     "text": [
      "{'title': 'Starry Night', 'year': 1805, 'author': 'Vincent Van Gogh'}\n"
     ]
    }
   ],
   "source": [
    "print(art_pieces[0])"
   ]
  },
  {
   "cell_type": "code",
   "execution_count": 19,
   "id": "5459c816-022e-47dd-b51a-614c7312cdae",
   "metadata": {},
   "outputs": [
    {
     "name": "stdout",
     "output_type": "stream",
     "text": [
      "{'title': 'Mona Lisa', 'year': 1503, 'author': 'Leonardo da Vinci'}\n"
     ]
    }
   ],
   "source": [
    "print(art_pieces[1])"
   ]
  },
  {
   "cell_type": "code",
   "execution_count": 20,
   "id": "f18e8ec7-d160-483e-b4d0-b06bcd0c44c4",
   "metadata": {},
   "outputs": [
    {
     "name": "stdout",
     "output_type": "stream",
     "text": [
      "{'title': 'The Persistence of Memory', 'year': 1931, 'author': 'Salvador Dali'}\n"
     ]
    }
   ],
   "source": [
    "print(art_pieces[2])"
   ]
  },
  {
   "cell_type": "code",
   "execution_count": 22,
   "id": "97d1372a-75a6-4250-8864-e1f71ba03005",
   "metadata": {},
   "outputs": [
    {
     "name": "stdout",
     "output_type": "stream",
     "text": [
      "The artwork Starry Night by Vincent Van Gogh was done in 1805\n",
      "The artwork Mona Lisa by Leonardo da Vinci was done in 1503\n",
      "The artwork The Persistence of Memory by Salvador Dali was done in 1931\n",
      "The artwork Guernica by Pablo Picasso was done in 1937\n",
      "The artwork The Night Watch by Rembrandt van Rijn was done in 1642\n",
      "The artwork The Birth of Venus by Sandro Botticelli was done in 1486\n",
      "The artwork The Kiss by Gustav Klimt was done in 1908\n",
      "The artwork The Last Supper by Leonardo da Vinci was done in 1498\n",
      "The artwork The Scream by Edvard Munch was done in 1893\n",
      "The artwork Water Lilies by Claude Monet was done in 1920\n"
     ]
    }
   ],
   "source": [
    "for piece in art_pieces:\n",
    "    print(f\"The artwork {piece['title']} by {piece['author']} was done in {piece['year']}\")"
   ]
  },
  {
   "cell_type": "code",
   "execution_count": null,
   "id": "3771b557-7f2c-4f28-bfe1-676a8cb50658",
   "metadata": {},
   "outputs": [],
   "source": []
  }
 ],
 "metadata": {
  "kernelspec": {
   "display_name": "Python 3 (ipykernel)",
   "language": "python",
   "name": "python3"
  },
  "language_info": {
   "codemirror_mode": {
    "name": "ipython",
    "version": 3
   },
   "file_extension": ".py",
   "mimetype": "text/x-python",
   "name": "python",
   "nbconvert_exporter": "python",
   "pygments_lexer": "ipython3",
   "version": "3.12.0"
  }
 },
 "nbformat": 4,
 "nbformat_minor": 5
}
